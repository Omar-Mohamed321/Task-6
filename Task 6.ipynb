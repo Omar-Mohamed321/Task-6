{
 "cells": [
  {
   "cell_type": "code",
   "execution_count": 7,
   "id": "68dc1ae2-aad7-493a-bec3-90924d7f7b35",
   "metadata": {},
   "outputs": [
    {
     "name": "stdout",
     "output_type": "stream",
     "text": [
      "[10, 20, 30, 40, 50]\n",
      "[10 20 30 40 50]\n"
     ]
    }
   ],
   "source": [
    "import numpy as np\n",
    "my_list = [ 10 , 20 , 30 , 40 , 50 ]\n",
    "a = np.array (my_list)\n",
    "print(my_list)\n",
    "print(a)"
   ]
  },
  {
   "cell_type": "code",
   "execution_count": 11,
   "id": "6e4d33d3-879b-45da-9085-31b52ce8743a",
   "metadata": {},
   "outputs": [
    {
     "name": "stdout",
     "output_type": "stream",
     "text": [
      "[1 2 3 4 5]\n"
     ]
    }
   ],
   "source": [
    "import numpy as np\n",
    "my_list = [ 1 , 2 , 3 , 4 , 5 ]\n",
    "b = np.array(my_list)\n",
    "print(b)"
   ]
  },
  {
   "cell_type": "code",
   "execution_count": 29,
   "id": "b0e7f737-8f05-409a-a576-239da5f6bf5a",
   "metadata": {},
   "outputs": [
    {
     "name": "stdout",
     "output_type": "stream",
     "text": [
      "[11 22 33 44 55]\n",
      "[ 9 18 27 36 45]\n",
      "[ 10  40  90 160 250]\n",
      "[10. 10. 10. 10. 10.]\n",
      "10\n",
      "50\n",
      "550\n",
      "[[10]\n",
      " [20]\n",
      " [30]\n",
      " [40]\n",
      " [50]]\n"
     ]
    }
   ],
   "source": [
    "a = np.array ([ 10 , 20 , 30 , 40 , 50 ])\n",
    "b = np.array([ 1 , 2 , 3 , 4 , 5 ])\n",
    "dot_product = sum( a * b )\n",
    "reshape_array = a.reshape( 5 , 1 )\n",
    "print ( a + b )\n",
    "print ( a - b )\n",
    "print ( a * b )\n",
    "print ( a / b )\n",
    "print ( a.min())\n",
    "print ( a.max())\n",
    "print (dot_product)\n",
    "print(reshape_array)\n",
    "\n"
   ]
  }
 ],
 "metadata": {
  "kernelspec": {
   "display_name": "Python [conda env:anaconda3]",
   "language": "python",
   "name": "conda-env-anaconda3-py"
  },
  "language_info": {
   "codemirror_mode": {
    "name": "ipython",
    "version": 3
   },
   "file_extension": ".py",
   "mimetype": "text/x-python",
   "name": "python",
   "nbconvert_exporter": "python",
   "pygments_lexer": "ipython3",
   "version": "3.12.7"
  }
 },
 "nbformat": 4,
 "nbformat_minor": 5
}
